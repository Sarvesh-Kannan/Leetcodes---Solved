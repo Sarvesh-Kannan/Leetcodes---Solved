{
 "cells": [
  {
   "cell_type": "markdown",
   "id": "8af7fa0d-7f68-40ce-90b3-4619f1aac5be",
   "metadata": {},
   "source": [
    "# Solved Leet Code Questions: "
   ]
  },
  {
   "cell_type": "markdown",
   "id": "70a627ad-0f4f-4b9a-bd3d-18f9892c0f53",
   "metadata": {},
   "source": [
    "## 1) A function to check if a given number is Palindrome"
   ]
  },
  {
   "cell_type": "code",
   "execution_count": null,
   "id": "3fb7043b-a8bf-4efb-9faf-fe321de74300",
   "metadata": {},
   "outputs": [],
   "source": [
    "class Solution(object):\n",
    "    def isPalindrome(self, x):\n",
    "        \"\"\"\n",
    "        :type x: int\n",
    "        :rtype: bool\n",
    "        \"\"\"\n",
    "        if x<0:\n",
    "            return False \n",
    "        return str(x)==str(x)[::-1]"
   ]
  },
  {
   "cell_type": "markdown",
   "id": "cc7bc58a-6322-48e2-8705-7c50521420b6",
   "metadata": {},
   "source": [
    "### This is a basic code that explains how to check if a given number is palindrome or not, the function works in the following way \n",
    "#### - It first checks if the number entered is lesser than zero [since negatives and zero are not palindromes] if the entered number is a negative number it returns false \n",
    "\n",
    "#### - In the next step we perform type casting by converting the integer into a string data type since it can be reversed easily, the reversing is done by [::-1] which signifies the reversing in here since '-1' is the index of the last element of any given string"
   ]
  },
  {
   "cell_type": "markdown",
   "id": "d2db4fb0-f2e4-433f-a065-530dc479c635",
   "metadata": {},
   "source": [
    "## 2) A function for calculating the Fibonacci number"
   ]
  },
  {
   "cell_type": "code",
   "execution_count": null,
   "id": "fd445aa5-41e3-4907-bb51-5ad6ea7fde47",
   "metadata": {},
   "outputs": [],
   "source": [
    "class Solution(object):\n",
    "    def fib(self, n):\n",
    "        \"\"\"\n",
    "        :type n: int\n",
    "        :rtype: int\n",
    "        \"\"\"\n",
    "        if n == 0:\n",
    "            return 0\n",
    "        elif n == 1:\n",
    "            return 1\n",
    "        else:\n",
    "            return self.fib(n-1) + self.fib(n-2)"
   ]
  },
  {
   "cell_type": "markdown",
   "id": "817ffb57-25f4-4094-90e4-0ce7c057d74d",
   "metadata": {},
   "source": [
    "### This is a basic function which can be useful in calculating the fibonacci number in a recursive way, it works in the following way:\n",
    "\n",
    "#### - First it checks if the number entered is 0 or if it is 1 since then they shall return the same values since the fibonacci series starts as in 1,1,2,3,5... etc. \n",
    "\n",
    "#### - This is where the recursive call takes place here if the number entered is greater than 0 and 1 then it shall perform the fib function recursively where in our case (n - marks the index of the number in the fibonacci series)"
   ]
  },
  {
   "cell_type": "markdown",
   "id": "90ca2c95-d387-47ff-a0e9-f30832dddb23",
   "metadata": {},
   "source": [
    "## 3)Climbing stairs problem"
   ]
  },
  {
   "cell_type": "code",
   "execution_count": null,
   "id": "37fca564-73bd-4d63-9ea1-a84c32c2c247",
   "metadata": {},
   "outputs": [],
   "source": [
    "class Solution(object):\n",
    "    def climbStairs(self, n):\n",
    "        \"\"\"\n",
    "        :type n: int\n",
    "        :rtype: int\n",
    "        \"\"\"\n",
    "        if n == 0:\n",
    "            return 1\n",
    "        elif n == 1:\n",
    "            return 1\n",
    "    \n",
    "        dp = [0] * (n + 1)\n",
    "        dp[0] = 1\n",
    "        dp[1] = 1\n",
    "\n",
    "        for i in range(2, n + 1):\n",
    "            dp[i] = dp[i - 1] + dp[i - 2]\n",
    "\n",
    "        return dp[n]"
   ]
  },
  {
   "cell_type": "markdown",
   "id": "38f6e201-ae6c-429c-827f-a8ec5914eb86",
   "metadata": {},
   "source": [
    "### This function can be interpretted as a dynamic programming way of approach for solving the problem:\n",
    "\n",
    "#### - First we make sure to give the values for the base cases namely 0 steps and 1 steps since for covering either of them we shall require just one possible way \n",
    "\n",
    "#### - Nextly we define the dp array which we fill up with zeroes first until [n+1] steps we do it until n+1 rather than just n because the indexing of arrays in python start from 0 unlike matlab which usually starts from 1\n",
    "\n",
    "#### - Next we give the values for the respective base cases inside the dp array, now starting from the 2 nd step we shall hava multiple possibilities just like that from 2 until n+1 steps so inside that we use a logic which is similar to calculating the fibonacci series, which shall be interpreted as the sum of the previous value and the value even 2 indices before that - which implies as a clause given in our question we can just either take a single step at a time or rather 2 steps at a time. "
   ]
  },
  {
   "cell_type": "markdown",
   "id": "f5018c00-0739-4f64-ab76-0d6ca92dddc8",
   "metadata": {},
   "source": [
    "## 4) Roman to Integer"
   ]
  },
  {
   "cell_type": "code",
   "execution_count": null,
   "id": "2707283f-86f8-4b06-a4d0-5b1b11521dec",
   "metadata": {},
   "outputs": [],
   "source": [
    "class Solution(object):\n",
    "    def romanToInt(self, s):\n",
    "        \"\"\"\n",
    "        :type s: str\n",
    "        :rtype: int\n",
    "        \"\"\"\n",
    "        roman = {'I':1,'V':5,'X':10,'L':50,'C':100,'D':500,'M':1000}\n",
    "        res = 0\n",
    "        \n",
    "        for i in range(len(s)):\n",
    "            if i+1 < len(s) and roman[s[i]] < roman[s[i+1]]:\n",
    "                res-=roman[s[i]]\n",
    "            else:\n",
    "                res+=roman[s[i]]\n",
    "\n",
    "        return res       \n"
   ]
  },
  {
   "cell_type": "markdown",
   "id": "fd634186-1274-43c1-b7d7-bb07daefe470",
   "metadata": {},
   "source": [
    "### This function can be implemented in a easy way using dictionaries\n",
    "\n",
    "#### - First we define a dictionary named roman, containing all the respective values of the roman numerals\n",
    "\n",
    "#### - Next we define a variable named res and give it a value 0, next using a for loop we iterate through it with the range of the length of the value s\n",
    "\n",
    "#### - inside that for loop we use a if else condition if the entered number belongs to roman numeral which is greater than the last one which we had entered and is on the next successive index of the value entered we add them if the value belongs to the predecessor index then we subtract the value\n"
   ]
  },
  {
   "cell_type": "code",
   "execution_count": null,
   "id": "5a4483ac-832a-49c3-ad06-2fa7c249b65f",
   "metadata": {},
   "outputs": [],
   "source": []
  }
 ],
 "metadata": {
  "kernelspec": {
   "display_name": "Python 3 (ipykernel)",
   "language": "python",
   "name": "python3"
  },
  "language_info": {
   "codemirror_mode": {
    "name": "ipython",
    "version": 3
   },
   "file_extension": ".py",
   "mimetype": "text/x-python",
   "name": "python",
   "nbconvert_exporter": "python",
   "pygments_lexer": "ipython3",
   "version": "3.11.7"
  }
 },
 "nbformat": 4,
 "nbformat_minor": 5
}
